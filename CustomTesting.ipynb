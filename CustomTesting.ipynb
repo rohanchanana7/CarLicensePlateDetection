{
 "cells": [
  {
   "cell_type": "code",
   "execution_count": 1,
   "metadata": {},
   "outputs": [],
   "source": [
    "import cv2\n",
    "import matplotlib.pyplot as plt\n",
    "from ultralytics import YOLO"
   ]
  },
  {
   "cell_type": "code",
   "execution_count": 2,
   "metadata": {},
   "outputs": [],
   "source": [
    "# Load the trained model\n",
    "model = YOLO('best_license_plate_model.pt')"
   ]
  },
  {
   "cell_type": "code",
   "execution_count": 3,
   "metadata": {},
   "outputs": [],
   "source": [
    "def predict_and_plot(path_test_car):\n",
    "\n",
    "    # Perform prediction on the test image using the model\n",
    "    results = model.predict(path_test_car, device='cpu')\n",
    "\n",
    "    # Load the image using OpenCV\n",
    "    image = cv2.imread(path_test_car)\n",
    "    if image is None:\n",
    "        print(f\"Error: Unable to load image at {path_test_car}\")\n",
    "        return\n",
    "\n",
    "    # Convert the image from BGR (OpenCV default) to RGB (matplotlib default)\n",
    "    image = cv2.cvtColor(image, cv2.COLOR_BGR2RGB)\n",
    "\n",
    "    # Check if results contain any detections\n",
    "    if not results:\n",
    "        print(\"No detections found.\")\n",
    "        plt.imshow(image)\n",
    "        plt.axis('off')\n",
    "        plt.show()\n",
    "        return\n",
    "\n",
    "    # Extract the bounding boxes and labels from the results\n",
    "    for result in results:\n",
    "        # Ensure `result.boxes` exists and is iterable\n",
    "        if hasattr(result, 'boxes') and result.boxes is not None:\n",
    "            for box in result.boxes:\n",
    "                # Get the coordinates of the bounding box\n",
    "                if hasattr(box, 'xyxy') and hasattr(box, 'conf'):\n",
    "                    x1, y1, x2, y2 = map(int, box.xyxy[0])\n",
    "                    confidence = box.conf[0]\n",
    "\n",
    "                    # Draw the bounding box on the image\n",
    "                    cv2.rectangle(image, (x1, y1), (x2, y2), (0, 255, 0), 2)\n",
    "                    # Draw the confidence score near the bounding box\n",
    "                    cv2.putText(image, f'{confidence*100:.2f}%', (x1, y1 - 10),\n",
    "                                cv2.FONT_HERSHEY_SIMPLEX, 0.9, (255, 0, 0), 2)\n",
    "        else:\n",
    "            print(\"No bounding boxes in result.\")\n",
    "\n",
    "    # Plot the image with bounding boxes\n",
    "    plt.imshow(image)\n",
    "    plt.axis('off')  \n",
    "    plt.show()  "
   ]
  },
  {
   "cell_type": "code",
   "execution_count": null,
   "metadata": {},
   "outputs": [],
   "source": [
    "# For prediction replace 'Test.jpg' with any image.\n",
    "predict_and_plot('Test.jpg')"
   ]
  },
  {
   "cell_type": "code",
   "execution_count": null,
   "metadata": {},
   "outputs": [],
   "source": []
  }
 ],
 "metadata": {
  "kernelspec": {
   "display_name": "Python 3",
   "language": "python",
   "name": "python3"
  },
  "language_info": {
   "codemirror_mode": {
    "name": "ipython",
    "version": 3
   },
   "file_extension": ".py",
   "mimetype": "text/x-python",
   "name": "python",
   "nbconvert_exporter": "python",
   "pygments_lexer": "ipython3",
   "version": "3.11.7"
  }
 },
 "nbformat": 4,
 "nbformat_minor": 2
}
